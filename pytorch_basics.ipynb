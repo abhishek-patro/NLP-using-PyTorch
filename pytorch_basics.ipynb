{
 "cells": [
  {
   "cell_type": "markdown",
   "metadata": {},
   "source": [
    "### PyTorch Basics"
   ]
  },
  {
   "cell_type": "code",
   "execution_count": 1,
   "metadata": {},
   "outputs": [],
   "source": [
    "import torch \n",
    "import numpy as np "
   ]
  },
  {
   "cell_type": "code",
   "execution_count": 2,
   "metadata": {},
   "outputs": [
    {
     "name": "stdout",
     "output_type": "stream",
     "text": [
      "True\n",
      "NVIDIA GeForce GTX 1050 Ti\n"
     ]
    }
   ],
   "source": [
    "\n",
    "print(torch.cuda.is_available())  # Should return True if CUDA is ready\n",
    "print(torch.cuda.get_device_name(0))  # Shows your GPU name\n"
   ]
  },
  {
   "cell_type": "code",
   "execution_count": 3,
   "metadata": {},
   "outputs": [],
   "source": [
    "def describe(x): \n",
    "    print(\"Type: {}\".format(x.type())) \n",
    "    print(\"Shape/size: {}\".format(x.shape)) \n",
    "    print(\"Values: \\n{}\".format(x))"
   ]
  },
  {
   "cell_type": "code",
   "execution_count": 4,
   "metadata": {},
   "outputs": [
    {
     "name": "stdout",
     "output_type": "stream",
     "text": [
      "Type: torch.FloatTensor\n",
      "Shape/size: torch.Size([2, 3])\n",
      "Values: \n",
      "tensor([[-1.0662e-14,  1.3032e-42,  0.0000e+00],\n",
      "        [ 0.0000e+00,  0.0000e+00,  0.0000e+00]])\n"
     ]
    }
   ],
   "source": [
    "describe(torch.Tensor(2,3))"
   ]
  },
  {
   "cell_type": "code",
   "execution_count": 5,
   "metadata": {},
   "outputs": [
    {
     "name": "stdout",
     "output_type": "stream",
     "text": [
      "Type: torch.FloatTensor\n",
      "Shape/size: torch.Size([2, 3])\n",
      "Values: \n",
      "tensor([[0.6550, 0.0432, 0.7949],\n",
      "        [0.5079, 0.1900, 0.7931]])\n",
      "Type: torch.FloatTensor\n",
      "Shape/size: torch.Size([2, 3])\n",
      "Values: \n",
      "tensor([[ 0.9597,  0.2207, -2.7454],\n",
      "        [ 1.6296,  0.7142,  0.1412]])\n"
     ]
    }
   ],
   "source": [
    "#unifrom distribution\n",
    "describe(torch.rand(2,3))\n",
    "#gaussian distribution\n",
    "describe(torch.randn(2,3))"
   ]
  },
  {
   "cell_type": "code",
   "execution_count": 6,
   "metadata": {},
   "outputs": [
    {
     "name": "stdout",
     "output_type": "stream",
     "text": [
      "Type: torch.FloatTensor\n",
      "Shape/size: torch.Size([2, 3])\n",
      "Values: \n",
      "tensor([[0., 0., 0.],\n",
      "        [0., 0., 0.]])\n"
     ]
    }
   ],
   "source": [
    "describe(torch.zeros(2,3))"
   ]
  },
  {
   "cell_type": "code",
   "execution_count": 7,
   "metadata": {},
   "outputs": [
    {
     "name": "stdout",
     "output_type": "stream",
     "text": [
      "Type: torch.FloatTensor\n",
      "Shape/size: torch.Size([2, 3])\n",
      "Values: \n",
      "tensor([[1., 1., 1.],\n",
      "        [1., 1., 1.]])\n"
     ]
    }
   ],
   "source": [
    "x = torch.ones(2,3)\n",
    "describe(x)"
   ]
  },
  {
   "cell_type": "code",
   "execution_count": 8,
   "metadata": {},
   "outputs": [
    {
     "name": "stdout",
     "output_type": "stream",
     "text": [
      "Type: torch.FloatTensor\n",
      "Shape/size: torch.Size([2, 3])\n",
      "Values: \n",
      "tensor([[10., 10., 10.],\n",
      "        [10., 10., 10.]])\n"
     ]
    }
   ],
   "source": [
    "x.fill_(10)\n",
    "describe(x)"
   ]
  },
  {
   "cell_type": "markdown",
   "metadata": {},
   "source": [
    "## Creating Tensor from Lists"
   ]
  },
  {
   "cell_type": "code",
   "execution_count": 9,
   "metadata": {},
   "outputs": [
    {
     "name": "stdout",
     "output_type": "stream",
     "text": [
      "Type: torch.FloatTensor\n",
      "Shape/size: torch.Size([2, 3])\n",
      "Values: \n",
      "tensor([[1., 2., 3.],\n",
      "        [4., 5., 6.]])\n"
     ]
    }
   ],
   "source": [
    "a = [[1,2,3],[4,5,6]]\n",
    "a_tensor = torch.Tensor(a)\n",
    "describe(a_tensor)"
   ]
  },
  {
   "cell_type": "markdown",
   "metadata": {},
   "source": [
    "## Types of Tensor \n",
    "1. Float Tensor (default)\n",
    "2. Double Tensor\n",
    "3. Long Tensor "
   ]
  },
  {
   "cell_type": "code",
   "execution_count": 10,
   "metadata": {},
   "outputs": [
    {
     "name": "stdout",
     "output_type": "stream",
     "text": [
      " \n",
      "Tensor Type     Data Type\tPrecision\t    Typical Use Case\n",
      "FloatTensor\t    float32\t    32-bit float\tDefault for most neural networks\n",
      "DoubleTensor\tfloat64\t    64-bit float\tHigh-precision computations (e.g., scientific computing)\n",
      "LongTensor\t    int64\t    64-bit integer  Indexing, counting, class labels\n",
      "\n"
     ]
    }
   ],
   "source": [
    "print(\"\"\" \n",
    "Tensor Type     Data Type\tPrecision\t    Typical Use Case\n",
    "FloatTensor\t    float32\t    32-bit float\tDefault for most neural networks\n",
    "DoubleTensor\tfloat64\t    64-bit float\tHigh-precision computations (e.g., scientific computing)\n",
    "LongTensor\t    int64\t    64-bit integer  Indexing, counting, class labels\n",
    "\"\"\")"
   ]
  },
  {
   "cell_type": "code",
   "execution_count": 11,
   "metadata": {},
   "outputs": [
    {
     "name": "stdout",
     "output_type": "stream",
     "text": [
      "Type: torch.DoubleTensor\n",
      "Shape/size: torch.Size([2, 3])\n",
      "Values: \n",
      "tensor([[0.9242, 0.1716, 0.8424],\n",
      "        [0.6260, 0.3167, 0.2625]], dtype=torch.float64)\n"
     ]
    }
   ],
   "source": [
    "npy = np.random.rand(2, 3) \n",
    "y = torch.from_numpy(npy)\n",
    "describe(y)"
   ]
  },
  {
   "cell_type": "code",
   "execution_count": 12,
   "metadata": {},
   "outputs": [
    {
     "name": "stdout",
     "output_type": "stream",
     "text": [
      "Type: torch.FloatTensor\n",
      "Shape/size: torch.Size([2, 3])\n",
      "Values: \n",
      "tensor([[0.9242, 0.1716, 0.8424],\n",
      "        [0.6260, 0.3167, 0.2625]])\n"
     ]
    }
   ],
   "source": [
    "y = y.float()\n",
    "describe(y)"
   ]
  },
  {
   "cell_type": "code",
   "execution_count": 13,
   "metadata": {},
   "outputs": [
    {
     "name": "stdout",
     "output_type": "stream",
     "text": [
      "Type: torch.LongTensor\n",
      "Shape/size: torch.Size([2, 3])\n",
      "Values: \n",
      "tensor([[0, 0, 0],\n",
      "        [0, 0, 0]])\n"
     ]
    }
   ],
   "source": [
    "z = y.long()\n",
    "describe(z)"
   ]
  },
  {
   "cell_type": "code",
   "execution_count": 14,
   "metadata": {},
   "outputs": [
    {
     "data": {
      "text/plain": [
       "torch.Size([2, 3])"
      ]
     },
     "execution_count": 14,
     "metadata": {},
     "output_type": "execute_result"
    }
   ],
   "source": [
    "y.size()"
   ]
  },
  {
   "cell_type": "code",
   "execution_count": 15,
   "metadata": {},
   "outputs": [
    {
     "data": {
      "text/plain": [
       "torch.Size([2, 3])"
      ]
     },
     "execution_count": 15,
     "metadata": {},
     "output_type": "execute_result"
    }
   ],
   "source": [
    "y.shape"
   ]
  },
  {
   "cell_type": "code",
   "execution_count": 16,
   "metadata": {},
   "outputs": [
    {
     "data": {
      "text/plain": [
       "'torch.FloatTensor'"
      ]
     },
     "execution_count": 16,
     "metadata": {},
     "output_type": "execute_result"
    }
   ],
   "source": [
    "y.type()"
   ]
  },
  {
   "cell_type": "markdown",
   "metadata": {},
   "source": [
    "## Tensor Operations"
   ]
  },
  {
   "cell_type": "markdown",
   "metadata": {},
   "source": [
    "### Addition"
   ]
  },
  {
   "cell_type": "code",
   "execution_count": 17,
   "metadata": {},
   "outputs": [],
   "source": [
    "x1= torch.rand(2,3)"
   ]
  },
  {
   "cell_type": "code",
   "execution_count": 18,
   "metadata": {},
   "outputs": [
    {
     "data": {
      "text/plain": [
       "tensor([[0.5053, 0.8268, 0.1680],\n",
       "        [0.0192, 0.1781, 0.5770]])"
      ]
     },
     "execution_count": 18,
     "metadata": {},
     "output_type": "execute_result"
    }
   ],
   "source": [
    "x1"
   ]
  },
  {
   "cell_type": "code",
   "execution_count": 19,
   "metadata": {},
   "outputs": [
    {
     "name": "stdout",
     "output_type": "stream",
     "text": [
      "Addition using '+' operator\n",
      " tensor([[1.0107, 1.6536, 0.3361],\n",
      "        [0.0383, 0.3562, 1.1540]])\n",
      "Addition using .add() function\n",
      " tensor([[1.0107, 1.6536, 0.3361],\n",
      "        [0.0383, 0.3562, 1.1540]])\n"
     ]
    }
   ],
   "source": [
    "print(\"Addition using '+' operator\\n\",x1+x1)\n",
    "print(\"Addition using .add() function\\n\",torch.add(x1,x1))"
   ]
  },
  {
   "cell_type": "code",
   "execution_count": 20,
   "metadata": {},
   "outputs": [
    {
     "name": "stdout",
     "output_type": "stream",
     "text": [
      "Type: torch.LongTensor\n",
      "Shape/size: torch.Size([6])\n",
      "Values: \n",
      "tensor([0, 1, 2, 3, 4, 5])\n"
     ]
    }
   ],
   "source": [
    "#arange function in torch\n",
    "x2 = torch.arange(6)\n",
    "describe(x2)"
   ]
  },
  {
   "cell_type": "code",
   "execution_count": 21,
   "metadata": {},
   "outputs": [
    {
     "name": "stdout",
     "output_type": "stream",
     "text": [
      "Type: torch.LongTensor\n",
      "Shape/size: torch.Size([2, 3])\n",
      "Values: \n",
      "tensor([[0, 1, 2],\n",
      "        [3, 4, 5]])\n"
     ]
    }
   ],
   "source": [
    "x2 = x2.view(2,3)\n",
    "describe(x2)"
   ]
  },
  {
   "cell_type": "markdown",
   "metadata": {},
   "source": [
    "### Sum along an axis, the dimension mentioned will be collapsed."
   ]
  },
  {
   "cell_type": "code",
   "execution_count": 22,
   "metadata": {},
   "outputs": [
    {
     "name": "stdout",
     "output_type": "stream",
     "text": [
      "Type: torch.LongTensor\n",
      "Shape/size: torch.Size([3])\n",
      "Values: \n",
      "tensor([3, 5, 7])\n",
      "Sum Along an axis: None\n"
     ]
    }
   ],
   "source": [
    "print(\"Sum Along an axis:\",describe(x2.sum(dim = 0)))"
   ]
  },
  {
   "cell_type": "code",
   "execution_count": 23,
   "metadata": {},
   "outputs": [
    {
     "name": "stdout",
     "output_type": "stream",
     "text": [
      "Type: torch.LongTensor\n",
      "Shape/size: torch.Size([2])\n",
      "Values: \n",
      "tensor([ 3, 12])\n",
      "Sum Along an axis: None\n"
     ]
    }
   ],
   "source": [
    "print(\"Sum Along an axis:\",describe(x2.sum(dim = 1)))"
   ]
  },
  {
   "cell_type": "markdown",
   "metadata": {},
   "source": [
    "### torch.sum(x, dim=0) has the same functionality as x2.sum(dim = 0)"
   ]
  },
  {
   "cell_type": "markdown",
   "metadata": {},
   "source": [
    "torch.transpose(input, dim0, dim1)\n",
    "* input: the tensor you want to transpose\n",
    "* dim0, dim1: the two dimensions you want to swap"
   ]
  },
  {
   "cell_type": "code",
   "execution_count": 24,
   "metadata": {},
   "outputs": [
    {
     "data": {
      "text/plain": [
       "tensor([[0, 3],\n",
       "        [1, 4],\n",
       "        [2, 5]])"
      ]
     },
     "execution_count": 24,
     "metadata": {},
     "output_type": "execute_result"
    }
   ],
   "source": [
    "torch.transpose(x2,0,1)"
   ]
  },
  {
   "cell_type": "markdown",
   "metadata": {},
   "source": [
    "### Slicing and Indexing"
   ]
  },
  {
   "cell_type": "code",
   "execution_count": 25,
   "metadata": {},
   "outputs": [
    {
     "name": "stdout",
     "output_type": "stream",
     "text": [
      "Type: torch.LongTensor\n",
      "Shape/size: torch.Size([3, 4])\n",
      "Values: \n",
      "tensor([[ 0,  1,  2,  3],\n",
      "        [ 4,  5,  6,  7],\n",
      "        [ 8,  9, 10, 11]])\n"
     ]
    }
   ],
   "source": [
    "x3 = torch.arange(12).view(3,4)\n",
    "describe(x3)"
   ]
  },
  {
   "cell_type": "code",
   "execution_count": 26,
   "metadata": {},
   "outputs": [
    {
     "data": {
      "text/plain": [
       "tensor([[0, 1, 2],\n",
       "        [4, 5, 6]])"
      ]
     },
     "execution_count": 26,
     "metadata": {},
     "output_type": "execute_result"
    }
   ],
   "source": [
    "x3[:2,:3]"
   ]
  },
  {
   "cell_type": "code",
   "execution_count": 27,
   "metadata": {},
   "outputs": [
    {
     "data": {
      "text/plain": [
       "tensor(11)"
      ]
     },
     "execution_count": 27,
     "metadata": {},
     "output_type": "execute_result"
    }
   ],
   "source": [
    "x3[2,3]"
   ]
  },
  {
   "cell_type": "markdown",
   "metadata": {},
   "source": [
    "### Complete Indexing\n",
    "* index: When using index select, the index should be a Long Tensor\n",
    "* dim: along which dim are we going to view the values. For a 2D Tensor dim = 0 allows to view the data along the row and dim = 1, allows to view the data along the column."
   ]
  },
  {
   "cell_type": "code",
   "execution_count": 28,
   "metadata": {},
   "outputs": [
    {
     "name": "stdout",
     "output_type": "stream",
     "text": [
      "Type: torch.LongTensor\n",
      "Shape/size: torch.Size([3, 4])\n",
      "Values: \n",
      "tensor([[ 0,  1,  2,  3],\n",
      "        [ 4,  5,  6,  7],\n",
      "        [ 8,  9, 10, 11]])\n"
     ]
    }
   ],
   "source": [
    "describe(x3)"
   ]
  },
  {
   "cell_type": "code",
   "execution_count": 29,
   "metadata": {},
   "outputs": [
    {
     "data": {
      "text/plain": [
       "tensor([[ 2,  1],\n",
       "        [ 6,  5],\n",
       "        [10,  9]])"
      ]
     },
     "execution_count": 29,
     "metadata": {},
     "output_type": "execute_result"
    }
   ],
   "source": [
    "idx = torch.LongTensor([2,1])\n",
    "torch.index_select(x3,dim = 1, index= idx)"
   ]
  },
  {
   "cell_type": "code",
   "execution_count": 30,
   "metadata": {},
   "outputs": [
    {
     "data": {
      "text/plain": [
       "tensor([[4, 5, 6, 7],\n",
       "        [0, 1, 2, 3]])"
      ]
     },
     "execution_count": 30,
     "metadata": {},
     "output_type": "execute_result"
    }
   ],
   "source": [
    "idx = torch.LongTensor([1,0])\n",
    "torch.index_select(x3,dim = 0, index= idx) "
   ]
  },
  {
   "cell_type": "code",
   "execution_count": 31,
   "metadata": {},
   "outputs": [],
   "source": [
    "row_indices = torch.arange(2).long() \n",
    "col_indices = torch.LongTensor([0, 1]) \n",
    "# describe(x[row_indices, col_indices])"
   ]
  },
  {
   "cell_type": "code",
   "execution_count": 32,
   "metadata": {},
   "outputs": [],
   "source": [
    "#describe(x3[[0,2],[0,1]])"
   ]
  },
  {
   "cell_type": "markdown",
   "metadata": {},
   "source": [
    "### Concate"
   ]
  },
  {
   "cell_type": "code",
   "execution_count": 33,
   "metadata": {},
   "outputs": [
    {
     "name": "stdout",
     "output_type": "stream",
     "text": [
      "Type: torch.LongTensor\n",
      "Shape/size: torch.Size([3, 4])\n",
      "Values: \n",
      "tensor([[ 0,  1,  2,  3],\n",
      "        [ 4,  5,  6,  7],\n",
      "        [ 8,  9, 10, 11]])\n"
     ]
    }
   ],
   "source": [
    "describe(x3)"
   ]
  },
  {
   "cell_type": "code",
   "execution_count": 34,
   "metadata": {},
   "outputs": [
    {
     "name": "stdout",
     "output_type": "stream",
     "text": [
      "Type: torch.LongTensor\n",
      "Shape/size: torch.Size([6, 4])\n",
      "Values: \n",
      "tensor([[ 0,  1,  2,  3],\n",
      "        [ 4,  5,  6,  7],\n",
      "        [ 8,  9, 10, 11],\n",
      "        [ 0,  1,  2,  3],\n",
      "        [ 4,  5,  6,  7],\n",
      "        [ 8,  9, 10, 11]])\n"
     ]
    }
   ],
   "source": [
    "describe(torch.cat([x3,x3], dim = 0))"
   ]
  },
  {
   "cell_type": "code",
   "execution_count": 35,
   "metadata": {},
   "outputs": [
    {
     "name": "stdout",
     "output_type": "stream",
     "text": [
      "Type: torch.LongTensor\n",
      "Shape/size: torch.Size([3, 8])\n",
      "Values: \n",
      "tensor([[ 0,  1,  2,  3,  0,  1,  2,  3],\n",
      "        [ 4,  5,  6,  7,  4,  5,  6,  7],\n",
      "        [ 8,  9, 10, 11,  8,  9, 10, 11]])\n"
     ]
    }
   ],
   "source": [
    "describe(torch.cat([x3,x3], dim = 1))"
   ]
  },
  {
   "cell_type": "markdown",
   "metadata": {},
   "source": [
    "## Cuda Settings"
   ]
  },
  {
   "cell_type": "code",
   "execution_count": 39,
   "metadata": {},
   "outputs": [
    {
     "name": "stdout",
     "output_type": "stream",
     "text": [
      "True\n"
     ]
    }
   ],
   "source": [
    "print(torch.cuda.is_available())"
   ]
  },
  {
   "cell_type": "code",
   "execution_count": 40,
   "metadata": {},
   "outputs": [],
   "source": [
    "device = torch.device(\"cuda\" if torch.cuda.is_available() else \n",
    "\"cpu\") "
   ]
  },
  {
   "cell_type": "code",
   "execution_count": 41,
   "metadata": {},
   "outputs": [
    {
     "name": "stdout",
     "output_type": "stream",
     "text": [
      "cuda\n"
     ]
    }
   ],
   "source": [
    "print(device)"
   ]
  },
  {
   "cell_type": "code",
   "execution_count": 44,
   "metadata": {},
   "outputs": [
    {
     "name": "stdout",
     "output_type": "stream",
     "text": [
      "Type: torch.cuda.FloatTensor\n",
      "Shape/size: torch.Size([3, 3])\n",
      "Values: \n",
      "tensor([[0.0560, 0.3687, 0.4476],\n",
      "        [0.4043, 0.5082, 0.2154],\n",
      "        [0.1325, 0.7794, 0.7888]], device='cuda:0')\n"
     ]
    }
   ],
   "source": [
    "x5 = torch.rand(3,3).to(device)\n",
    "describe(x5)"
   ]
  },
  {
   "cell_type": "code",
   "execution_count": 45,
   "metadata": {},
   "outputs": [
    {
     "data": {
      "text/plain": [
       "'NVIDIA GeForce GTX 1050 Ti'"
      ]
     },
     "execution_count": 45,
     "metadata": {},
     "output_type": "execute_result"
    }
   ],
   "source": [
    "torch.cuda.get_device_name()"
   ]
  },
  {
   "cell_type": "markdown",
   "metadata": {},
   "source": [
    "## Questions\n",
    " 1. Create a 2D tensor and then add a dimension of size 1 inserted at dimension 0.\n",
    " 2. Remove the extra dimension you just added to the previous tensor.\n",
    " 3. Create a random tensor of shape 5x3 in the interval [3, 7).\n",
    " 4. Create a tensor with values from a normal distribution (mean= 0 , std= 1).\n",
    " 5. Retrieve the indexes of all the nonzero elements in the tensor torch.Tensor([1, 1, 1, 0, 1]).\n",
    " 6. Create a random tensor of size (3,1) and then horizontally stack four copies together.\n",
    " 7. Return the batch matrix-matrix product of two three-dimensional matrices (a=torch.rand(3,4,5), b=torch.rand(3,5,4))\n",
    " 8. Return the batch matrix-matrix product of a 3D matrix and a 2D matrix (a=torch.rand(3,4,5), b=torch.rand(5,4))\n",
    " "
   ]
  },
  {
   "cell_type": "code",
   "execution_count": 47,
   "metadata": {},
   "outputs": [
    {
     "name": "stdout",
     "output_type": "stream",
     "text": [
      "Type: torch.LongTensor\n",
      "Shape/size: torch.Size([2, 3])\n",
      "Values: \n",
      "tensor([[0, 1, 2],\n",
      "        [3, 4, 5]])\n",
      "Type: torch.LongTensor\n",
      "Shape/size: torch.Size([1, 2, 3])\n",
      "Values: \n",
      "tensor([[[0, 1, 2],\n",
      "         [3, 4, 5]]])\n"
     ]
    }
   ],
   "source": [
    "##Ans1:\n",
    "a1 = torch.arange(6).view(2,3)\n",
    "describe(a1)\n",
    "a1a = a1.view(1,2,3)\n",
    "describe(a1a)"
   ]
  },
  {
   "cell_type": "code",
   "execution_count": 48,
   "metadata": {},
   "outputs": [
    {
     "name": "stdout",
     "output_type": "stream",
     "text": [
      "Type: torch.LongTensor\n",
      "Shape/size: torch.Size([2, 3])\n",
      "Values: \n",
      "tensor([[0, 1, 2],\n",
      "        [3, 4, 5]])\n"
     ]
    }
   ],
   "source": [
    "##Ans2:\n",
    "a2 = a1a.view(2,3)\n",
    "describe(a2)"
   ]
  },
  {
   "cell_type": "code",
   "execution_count": 65,
   "metadata": {},
   "outputs": [
    {
     "name": "stdout",
     "output_type": "stream",
     "text": [
      "Type: torch.FloatTensor\n",
      "Shape/size: torch.Size([2, 3])\n",
      "Values: \n",
      "tensor([[5.1295, 5.2754, 6.3538],\n",
      "        [6.9314, 3.4263, 5.7014]])\n"
     ]
    }
   ],
   "source": [
    "##Ans3:\n",
    "a3 = torch.rand(2,3)*(7-3)+3\n",
    "describe(a3)"
   ]
  },
  {
   "cell_type": "code",
   "execution_count": 51,
   "metadata": {},
   "outputs": [
    {
     "name": "stdout",
     "output_type": "stream",
     "text": [
      "Type: torch.FloatTensor\n",
      "Shape/size: torch.Size([2, 3])\n",
      "Values: \n",
      "tensor([[ 1.1901,  0.2761,  0.4381],\n",
      "        [ 0.5397,  0.9984, -0.2068]])\n"
     ]
    }
   ],
   "source": [
    "##Ans4: \n",
    "a4 = torch.randn(2,3)\n",
    "describe(a4)"
   ]
  },
  {
   "cell_type": "code",
   "execution_count": 56,
   "metadata": {},
   "outputs": [
    {
     "name": "stdout",
     "output_type": "stream",
     "text": [
      "Type: torch.LongTensor\n",
      "Shape/size: torch.Size([5])\n",
      "Values: \n",
      "tensor([1, 1, 1, 0, 1])\n",
      "Type: torch.LongTensor\n",
      "Shape/size: torch.Size([4])\n",
      "Values: \n",
      "tensor([1, 1, 1, 1])\n"
     ]
    }
   ],
   "source": [
    "##Ans5:\n",
    "a5 = torch.LongTensor([1, 1, 1, 0, 1])\n",
    "describe(a5)\n",
    "describe(a5[a5>0])"
   ]
  },
  {
   "cell_type": "code",
   "execution_count": null,
   "metadata": {},
   "outputs": [
    {
     "name": "stdout",
     "output_type": "stream",
     "text": [
      "Type: torch.FloatTensor\n",
      "Shape/size: torch.Size([12, 1])\n",
      "Values: \n",
      "tensor([[0.4538],\n",
      "        [0.3271],\n",
      "        [0.5355],\n",
      "        [0.4538],\n",
      "        [0.3271],\n",
      "        [0.5355],\n",
      "        [0.4538],\n",
      "        [0.3271],\n",
      "        [0.5355],\n",
      "        [0.4538],\n",
      "        [0.3271],\n",
      "        [0.5355]])\n"
     ]
    }
   ],
   "source": [
    "#Ans6:\n",
    "a6 = torch.rand(3,1)\n",
    "cat = a6.clone().detach()\n",
    "for i in range(3):\n",
    "    cat = torch.cat([cat,a6],dim=0)\n",
    "\n",
    "describe(cat)"
   ]
  },
  {
   "cell_type": "code",
   "execution_count": 61,
   "metadata": {},
   "outputs": [
    {
     "name": "stdout",
     "output_type": "stream",
     "text": [
      "Type: torch.FloatTensor\n",
      "Shape/size: torch.Size([3, 4, 4])\n",
      "Values: \n",
      "tensor([[[1.4940, 1.1239, 1.1427, 1.4468],\n",
      "         [2.1868, 1.1232, 1.2509, 1.9576],\n",
      "         [1.3149, 0.9936, 0.8907, 1.2354],\n",
      "         [1.6106, 0.8312, 0.9712, 1.3305]],\n",
      "\n",
      "        [[0.3653, 0.9853, 1.0858, 0.6550],\n",
      "         [0.4704, 1.1231, 1.0685, 0.7730],\n",
      "         [0.7031, 1.4670, 1.3065, 0.9318],\n",
      "         [0.5188, 1.6170, 1.4924, 1.0577]],\n",
      "\n",
      "        [[2.1454, 0.9253, 1.7265, 2.0386],\n",
      "         [2.3770, 1.3541, 1.3021, 2.4219],\n",
      "         [2.1538, 0.9455, 1.3759, 2.0571],\n",
      "         [2.6032, 1.7448, 1.6913, 2.5821]]])\n"
     ]
    }
   ],
   "source": [
    "##Ans7:\n",
    "a7,b7 = torch.rand(3,4,5),torch.rand(3,5,4)\n",
    "describe(torch.matmul(a7,b7))"
   ]
  },
  {
   "cell_type": "code",
   "execution_count": 62,
   "metadata": {},
   "outputs": [
    {
     "name": "stdout",
     "output_type": "stream",
     "text": [
      "Type: torch.FloatTensor\n",
      "Shape/size: torch.Size([3, 4, 4])\n",
      "Values: \n",
      "tensor([[[1.4940, 1.1239, 1.1427, 1.4468],\n",
      "         [2.1868, 1.1232, 1.2509, 1.9576],\n",
      "         [1.3149, 0.9936, 0.8907, 1.2354],\n",
      "         [1.6106, 0.8312, 0.9712, 1.3305]],\n",
      "\n",
      "        [[0.3653, 0.9853, 1.0858, 0.6550],\n",
      "         [0.4704, 1.1231, 1.0685, 0.7730],\n",
      "         [0.7031, 1.4670, 1.3065, 0.9318],\n",
      "         [0.5188, 1.6170, 1.4924, 1.0577]],\n",
      "\n",
      "        [[2.1454, 0.9253, 1.7265, 2.0386],\n",
      "         [2.3770, 1.3541, 1.3021, 2.4219],\n",
      "         [2.1538, 0.9455, 1.3759, 2.0571],\n",
      "         [2.6032, 1.7448, 1.6913, 2.5821]]])\n"
     ]
    }
   ],
   "source": [
    "describe(torch.bmm(a7,b7))"
   ]
  },
  {
   "cell_type": "code",
   "execution_count": 63,
   "metadata": {},
   "outputs": [
    {
     "name": "stdout",
     "output_type": "stream",
     "text": [
      "Type: torch.FloatTensor\n",
      "Shape/size: torch.Size([3, 4, 4])\n",
      "Values: \n",
      "tensor([[[2.2881, 1.4826, 1.4948, 1.7989],\n",
      "         [1.2160, 1.3203, 1.0756, 0.9257],\n",
      "         [1.8002, 2.1476, 1.4071, 1.6179],\n",
      "         [1.5417, 1.4327, 1.4306, 1.1533]],\n",
      "\n",
      "        [[0.8819, 0.7637, 0.8613, 0.6152],\n",
      "         [1.5547, 1.2249, 0.8202, 1.2621],\n",
      "         [2.1411, 0.8141, 1.5362, 1.4698],\n",
      "         [2.0719, 1.4371, 1.1488, 1.6029]],\n",
      "\n",
      "        [[1.8054, 1.1379, 1.2275, 1.3828],\n",
      "         [1.3373, 0.7909, 1.0236, 0.9449],\n",
      "         [1.3085, 0.7281, 0.9362, 1.0279],\n",
      "         [1.7892, 1.2128, 1.0737, 1.4911]]])\n"
     ]
    }
   ],
   "source": [
    "a8,b8=torch.rand(3,4,5),torch.rand(5,4)\n",
    "describe(torch.matmul(a8,b8))"
   ]
  },
  {
   "cell_type": "code",
   "execution_count": null,
   "metadata": {},
   "outputs": [],
   "source": []
  }
 ],
 "metadata": {
  "kernelspec": {
   "display_name": "nlp",
   "language": "python",
   "name": "python3"
  },
  "language_info": {
   "codemirror_mode": {
    "name": "ipython",
    "version": 3
   },
   "file_extension": ".py",
   "mimetype": "text/x-python",
   "name": "python",
   "nbconvert_exporter": "python",
   "pygments_lexer": "ipython3",
   "version": "3.12.3"
  }
 },
 "nbformat": 4,
 "nbformat_minor": 2
}
